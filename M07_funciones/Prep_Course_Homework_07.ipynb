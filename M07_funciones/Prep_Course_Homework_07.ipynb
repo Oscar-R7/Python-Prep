{
 "cells": [
  {
   "attachments": {},
   "cell_type": "markdown",
   "metadata": {},
   "source": [
    "## Funciones"
   ]
  },
  {
   "attachments": {},
   "cell_type": "markdown",
   "metadata": {},
   "source": [
    "1) Crear una función que reciba un número como parámetro y devuelva True si es primo y False si no lo es"
   ]
  },
  {
   "cell_type": "code",
   "execution_count": 5,
   "metadata": {},
   "outputs": [
    {
     "name": "stdout",
     "output_type": "stream",
     "text": [
      "1 es primo: False\n"
     ]
    }
   ],
   "source": [
    "def primo (num):\n",
    "    if num <= 1:\n",
    "        return False\n",
    "    elif num == 2:\n",
    "        return True\n",
    "    elif num % 2 == 0:\n",
    "        return False\n",
    "    else:\n",
    "        for i in range(3, int(num**0.5)+1, 2):\n",
    "            if num % i == 0:\n",
    "                return False\n",
    "        return True\n",
    "\n",
    "num = 1\n",
    "resultado = primo(num)\n",
    "\n",
    "print(f\"{num} es primo: {resultado}\")"
   ]
  },
  {
   "attachments": {},
   "cell_type": "markdown",
   "metadata": {},
   "source": [
    "2) Utilizando la función del punto 1, realizar otra función que reciba de parámetro una lista de números y devuelva sólo aquellos que son primos en otra lista"
   ]
  },
  {
   "cell_type": "code",
   "execution_count": 16,
   "metadata": {},
   "outputs": [
    {
     "name": "stdout",
     "output_type": "stream",
     "text": [
      "Números primos en la lista: [2, 3, 5, 7, 11, 13]\n"
     ]
    }
   ],
   "source": [
    "def primos_en_lista(lista):\n",
    "    primos = [numero for numero in lista if primo(numero)]\n",
    "    return primos\n",
    "\n",
    "numeros = [1, 2, 3, 4, 5, 6, 7, 8, 9, 10, 11, 12, 13]\n",
    "primos_encontrados = primos_en_lista(numeros)\n",
    "print(f\"Números primos en la lista: {primos_encontrados}\")"
   ]
  },
  {
   "attachments": {},
   "cell_type": "markdown",
   "metadata": {},
   "source": [
    "3) Crear una función que al recibir una lista de números, devuelva el que más se repite y cuántas veces lo hace. Si hay más de un \"más repetido\", que devuelva cualquiera"
   ]
  },
  {
   "cell_type": "code",
   "execution_count": 18,
   "metadata": {},
   "outputs": [
    {
     "name": "stdout",
     "output_type": "stream",
     "text": [
      "El número más repetido es 5, se repite 3 veces.\n"
     ]
    }
   ],
   "source": [
    "def numero_mas_repetido(lista):\n",
    "    frecuencia = {}\n",
    "\n",
    "    for numero in lista:\n",
    "        if numero in frecuencia:\n",
    "            frecuencia[numero] += 1\n",
    "        else:\n",
    "            frecuencia[numero] = 1\n",
    "\n",
    "    mas_repetido = max(frecuencia, key=frecuencia.get)\n",
    "    veces_repetido = frecuencia[mas_repetido]\n",
    "\n",
    "    return mas_repetido, veces_repetido\n",
    "\n",
    "numeros = [1,1,5,6,8,10,22,5,6,4,11,9,5]\n",
    "resultado = numero_mas_repetido(numeros)\n",
    "print(f\"El número más repetido es {resultado[0]}, se repite {resultado[1]} veces.\")\n"
   ]
  },
  {
   "attachments": {},
   "cell_type": "markdown",
   "metadata": {},
   "source": [
    "4) Crear una función que convierta entre grados Celsius, Farenheit y Kelvin<br>\n",
    "Fórmula 1\t: (°C × 9/5) + 32 = °F<br>\n",
    "Fórmula 2\t: °C + 273.15 = °K<br>\n",
    "Debe recibir 3 parámetros: el valor, la medida de orígen y la medida de destino\n"
   ]
  },
  {
   "cell_type": "code",
   "execution_count": 1,
   "metadata": {},
   "outputs": [
    {
     "name": "stdout",
     "output_type": "stream",
     "text": [
      "25 grados Celsius son 77.0 grados Fahrenheit\n"
     ]
    }
   ],
   "source": [
    "def convertir_temperatura(valor, medida_origen, medida_destino):\n",
    "    \n",
    "    if medida_origen == \"Celsius\":\n",
    "        if medida_destino == \"Fahrenheit\":\n",
    "            resultado = (valor * 9/5) + 32\n",
    "            return resultado\n",
    "        elif medida_destino == \"Kelvin\":\n",
    "            resultado = valor + 273.15\n",
    "            return resultado\n",
    "        else:\n",
    "            return \"Medida de destino no válida\"\n",
    "    elif medida_origen == \"Fahrenheit\":\n",
    "        if medida_destino == \"Celsius\":\n",
    "            resultado = (valor - 32) * 5/9\n",
    "            return resultado\n",
    "        elif medida_destino == \"Kelvin\":\n",
    "            resultado = (valor - 32) * 5/9 + 273.15\n",
    "            return resultado\n",
    "        else:\n",
    "            return \"Medida de destino no válida\"\n",
    "    elif medida_origen == \"Kelvin\":\n",
    "        if medida_destino == \"Celsius\":\n",
    "            resultado = valor - 273.15\n",
    "            return resultado\n",
    "        elif medida_destino == \"Fahrenheit\":\n",
    "            resultado = (valor - 273.15) * 9/5 + 32\n",
    "            return resultado\n",
    "        else:\n",
    "            return \"Medida de destino no válida\"\n",
    "    else:\n",
    "        return \"Medida de origen no válida\"\n",
    "\n",
    "valor_original = 25\n",
    "medida_original = \"Celsius\"\n",
    "medida_destino = \"Fahrenheit\"\n",
    "\n",
    "resultado_conversion = convertir_temperatura(valor_original, medida_original, medida_destino)\n",
    "print(f\"{valor_original} grados {medida_original} son {resultado_conversion} grados {medida_destino}\")\n"
   ]
  },
  {
   "attachments": {},
   "cell_type": "markdown",
   "metadata": {},
   "source": [
    "5) Iterando una lista con los tres valores posibles de temperatura que recibe la función del punto 5, hacer un print para cada combinación de los mismos:"
   ]
  },
  {
   "cell_type": "code",
   "execution_count": 3,
   "metadata": {},
   "outputs": [
    {
     "name": "stdout",
     "output_type": "stream",
     "text": [
      "\n",
      "Temperatura: 0 grados\n",
      "\n",
      "0 grados Celsius son 32.00 grados Fahrenheit\n",
      "0 grados Celsius son 273.15 grados Kelvin\n",
      "0 grados Fahrenheit son -17.78 grados Celsius\n",
      "0 grados Fahrenheit son 255.37 grados Kelvin\n",
      "0 grados Kelvin son -273.15 grados Celsius\n",
      "0 grados Kelvin son -459.67 grados Fahrenheit\n",
      "\n",
      "Temperatura: 25 grados\n",
      "\n",
      "25 grados Celsius son 77.00 grados Fahrenheit\n",
      "25 grados Celsius son 298.15 grados Kelvin\n",
      "25 grados Fahrenheit son -3.89 grados Celsius\n",
      "25 grados Fahrenheit son 269.26 grados Kelvin\n",
      "25 grados Kelvin son -248.15 grados Celsius\n",
      "25 grados Kelvin son -414.67 grados Fahrenheit\n",
      "\n",
      "Temperatura: 100 grados\n",
      "\n",
      "100 grados Celsius son 212.00 grados Fahrenheit\n",
      "100 grados Celsius son 373.15 grados Kelvin\n",
      "100 grados Fahrenheit son 37.78 grados Celsius\n",
      "100 grados Fahrenheit son 310.93 grados Kelvin\n",
      "100 grados Kelvin son -173.15 grados Celsius\n",
      "100 grados Kelvin son -279.67 grados Fahrenheit\n"
     ]
    }
   ],
   "source": [
    "\n",
    "temperaturas = [0, 25, 100]\n",
    "\n",
    "\n",
    "for temperatura in temperaturas:\n",
    "    print(f\"\\nTemperatura: {temperatura} grados\\n\")\n",
    "\n",
    "    for medida_origen in [\"Celsius\", \"Fahrenheit\", \"Kelvin\"]:\n",
    "        for medida_destino in [\"Celsius\", \"Fahrenheit\", \"Kelvin\"]:\n",
    "            if medida_origen != medida_destino:\n",
    "                \n",
    "                resultado_conversion = convertir_temperatura(temperatura, medida_origen, medida_destino)\n",
    "                print(f\"{temperatura} grados {medida_origen} son {resultado_conversion:.2f} grados {medida_destino}\")\n"
   ]
  },
  {
   "attachments": {},
   "cell_type": "markdown",
   "metadata": {},
   "source": [
    "6) Armar una función que devuelva el factorial de un número. Tener en cuenta que el usuario puede equivocarse y enviar de parámetro un número no entero o negativo"
   ]
  },
  {
   "cell_type": "code",
   "execution_count": 5,
   "metadata": {},
   "outputs": [
    {
     "name": "stdout",
     "output_type": "stream",
     "text": [
      "El factorial de 5 es: 120\n"
     ]
    }
   ],
   "source": [
    "def factorial(numero):\n",
    "   \n",
    "    if not isinstance(numero, int) or numero < 0:\n",
    "        return \"Error: Por favor, ingrese un número entero no negativo.\"\n",
    "    \n",
    "    if numero == 0:\n",
    "        return 1\n",
    "    else:\n",
    "        return numero * factorial(numero - 1)\n",
    "\n",
    "numero_a_calcular = 5\n",
    "resultado_factorial = factorial(numero_a_calcular)\n",
    "\n",
    "print(f\"El factorial de {numero_a_calcular} es: {resultado_factorial}\")\n"
   ]
  }
 ],
 "metadata": {
  "interpreter": {
   "hash": "c85384e4cb51c8b72350f3a8712cc8351fdc3955e32a27f9b60c6242ab125f01"
  },
  "kernelspec": {
   "display_name": "Python 3 (ipykernel)",
   "language": "python",
   "name": "python3"
  },
  "language_info": {
   "codemirror_mode": {
    "name": "ipython",
    "version": 3
   },
   "file_extension": ".py",
   "mimetype": "text/x-python",
   "name": "python",
   "nbconvert_exporter": "python",
   "pygments_lexer": "ipython3",
   "version": "3.12.0"
  }
 },
 "nbformat": 4,
 "nbformat_minor": 4
}
