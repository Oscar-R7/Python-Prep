{
 "cells": [
  {
   "attachments": {},
   "cell_type": "markdown",
   "metadata": {},
   "source": [
    "## Flujos de Control"
   ]
  },
  {
   "attachments": {},
   "cell_type": "markdown",
   "metadata": {},
   "source": [
    "1) Crear una variable que contenga un elemento del conjunto de números enteros y luego imprimir por pantalla si es mayor o menor a cero"
   ]
  },
  {
   "cell_type": "code",
   "execution_count": 24,
   "metadata": {},
   "outputs": [
    {
     "name": "stdout",
     "output_type": "stream",
     "text": [
      "es igual a 0\n"
     ]
    }
   ],
   "source": [
    "a=0\n",
    "if(a<0):\n",
    "    print(\"la variable es menor a 0\")\n",
    "elif(a>0):\n",
    "    print(\"la variable es mayor a 0\")\n",
    "else:\n",
    "    print(\"es igual a 0\")"
   ]
  },
  {
   "attachments": {},
   "cell_type": "markdown",
   "metadata": {},
   "source": [
    "2) Crear dos variables y un condicional que informe si son del mismo tipo de dato"
   ]
  },
  {
   "cell_type": "code",
   "execution_count": 25,
   "metadata": {},
   "outputs": [
    {
     "name": "stdout",
     "output_type": "stream",
     "text": [
      "la variable no es del mismo tipo de dato\n"
     ]
    }
   ],
   "source": [
    "a=\"1\"\n",
    "b=1\n",
    "if (type(a)==(type(b))):\n",
    "    print(\"la variable es del mismo tipo de dato\")\n",
    "else:\n",
    "    print(\"la variable no es del mismo tipo de dato\")\n"
   ]
  },
  {
   "attachments": {},
   "cell_type": "markdown",
   "metadata": {},
   "source": [
    "3) Para los valores enteros del 1 al 20, imprimir por pantalla si es par o impar"
   ]
  },
  {
   "cell_type": "code",
   "execution_count": 26,
   "metadata": {},
   "outputs": [
    {
     "name": "stdout",
     "output_type": "stream",
     "text": [
      "el numero  1 es impar\n",
      "el numero  2 es par\n",
      "el numero  3 es impar\n",
      "el numero  4 es par\n",
      "el numero  5 es impar\n",
      "el numero  6 es par\n",
      "el numero  7 es impar\n",
      "el numero  8 es par\n",
      "el numero  9 es impar\n",
      "el numero  10 es par\n",
      "el numero  11 es impar\n",
      "el numero  12 es par\n",
      "el numero  13 es impar\n",
      "el numero  14 es par\n",
      "el numero  15 es impar\n",
      "el numero  16 es par\n",
      "el numero  17 es impar\n",
      "el numero  18 es par\n",
      "el numero  19 es impar\n",
      "el numero  20 es par\n"
     ]
    }
   ],
   "source": [
    "for x in range(1,21):\n",
    "    if x % 2==0:\n",
    "        print(\"el numero \", str(x), \"es par\")\n",
    "    else:\n",
    "        print(\"el numero \", str(x), \"es impar\")\n"
   ]
  },
  {
   "attachments": {},
   "cell_type": "markdown",
   "metadata": {},
   "source": [
    "4) En un ciclo for mostrar para los valores entre 0 y 5 el resultado de elevarlo a la potencia igual a 3"
   ]
  },
  {
   "cell_type": "code",
   "execution_count": 27,
   "metadata": {},
   "outputs": [
    {
     "name": "stdout",
     "output_type": "stream",
     "text": [
      "el valor  0 elvado al cubo es:  0\n",
      "el valor  1 elvado al cubo es:  1\n",
      "el valor  2 elvado al cubo es:  8\n",
      "el valor  3 elvado al cubo es:  27\n",
      "el valor  4 elvado al cubo es:  64\n",
      "el valor  5 elvado al cubo es:  125\n"
     ]
    }
   ],
   "source": [
    "for i in range(0,6):\n",
    "    print(\"el valor \", str(i), \"elvado al cubo es: \", str(i**3))"
   ]
  },
  {
   "attachments": {},
   "cell_type": "markdown",
   "metadata": {},
   "source": [
    "5) Crear una variable que contenga un número entero y realizar un ciclo for la misma cantidad de ciclos"
   ]
  },
  {
   "cell_type": "code",
   "execution_count": 28,
   "metadata": {},
   "outputs": [
    {
     "name": "stdout",
     "output_type": "stream",
     "text": [
      "0\n",
      "1\n",
      "2\n",
      "3\n",
      "4\n"
     ]
    }
   ],
   "source": [
    "a = 5\n",
    "for x in range(0, a):\n",
    "    print(x)"
   ]
  },
  {
   "attachments": {},
   "cell_type": "markdown",
   "metadata": {},
   "source": [
    "6) Utilizar un ciclo while para realizar el factorial de un número guardado en una variable, sólo si la variable contiene un número entero mayor a 0"
   ]
  },
  {
   "cell_type": "code",
   "execution_count": 29,
   "metadata": {},
   "outputs": [
    {
     "name": "stdout",
     "output_type": "stream",
     "text": [
      "el factorial es 3628800\n"
     ]
    }
   ],
   "source": [
    "n = 10\n",
    "if (type(n)==int):\n",
    "    if (n>0):\n",
    "        fact = n\n",
    "        while (n > 2):\n",
    "            n= n-1\n",
    "            fact = fact * n\n",
    "        print(\"el factorial es\", fact)\n",
    "    else:\n",
    "        print(\"la variable no es mayor a 0\")\n",
    "else:\n",
    "    print(\"la variable no es un entero\")\n"
   ]
  },
  {
   "attachments": {},
   "cell_type": "markdown",
   "metadata": {},
   "source": [
    "7) Crear un ciclo for dentro de un ciclo while"
   ]
  },
  {
   "cell_type": "code",
   "execution_count": 30,
   "metadata": {},
   "outputs": [
    {
     "name": "stdout",
     "output_type": "stream",
     "text": [
      "ciclo nº 1\n",
      "ciclo nº 1\n",
      "ciclo nº 2\n",
      "ciclo nº 1\n",
      "ciclo nº 2\n",
      "ciclo nº 3\n",
      "ciclo nº 1\n",
      "ciclo nº 2\n",
      "ciclo nº 3\n",
      "ciclo nº 4\n"
     ]
    }
   ],
   "source": [
    "a=1\n",
    "while a<5:\n",
    "    for i in range(1,(a+1)):\n",
    "     print(\"ciclo nº\", str(i))\n",
    "    a += 1"
   ]
  },
  {
   "attachments": {},
   "cell_type": "markdown",
   "metadata": {},
   "source": [
    "8) Crear un ciclo while dentro de un ciclo for"
   ]
  },
  {
   "cell_type": "code",
   "execution_count": 75,
   "metadata": {},
   "outputs": [
    {
     "name": "stdout",
     "output_type": "stream",
     "text": [
      "Ciclo n1\n",
      "Ciclo Nº  5\n",
      "Ciclo Nº  4\n",
      "Ciclo Nº  3\n",
      "Ciclo Nº  2\n",
      "Ciclo Nº  1\n",
      "Ciclo n2\n",
      "Ciclo Nº  5\n",
      "Ciclo Nº  4\n",
      "Ciclo Nº  3\n",
      "Ciclo Nº  2\n",
      "Ciclo Nº  1\n",
      "Ciclo n3\n",
      "Ciclo Nº  5\n",
      "Ciclo Nº  4\n",
      "Ciclo Nº  3\n",
      "Ciclo Nº  2\n",
      "Ciclo Nº  1\n",
      "Ciclo n4\n",
      "Ciclo Nº  5\n",
      "Ciclo Nº  4\n",
      "Ciclo Nº  3\n",
      "Ciclo Nº  2\n",
      "Ciclo Nº  1\n"
     ]
    }
   ],
   "source": [
    "a=5\n",
    "for i in range(1, a):\n",
    "    print(\"Ciclo n\" + str(i))\n",
    "    a2= a\n",
    "    while a2 > 0:\n",
    "        print(\"Ciclo Nº \", str(a2))\n",
    "        a2 -= 1\n",
    "    \n",
    "        if a2 <= 0:\n",
    "            break\n"
   ]
  },
  {
   "attachments": {},
   "cell_type": "markdown",
   "metadata": {},
   "source": [
    "9) Imprimir los números primos existentes entre 0 y 30"
   ]
  },
  {
   "cell_type": "code",
   "execution_count": 11,
   "metadata": {},
   "outputs": [
    {
     "name": "stdout",
     "output_type": "stream",
     "text": [
      "2\n",
      "3\n",
      "5\n",
      "7\n",
      "11\n",
      "13\n",
      "17\n",
      "19\n",
      "23\n",
      "29\n"
     ]
    }
   ],
   "source": [
    "n=30\n",
    "\n",
    "for num in range(2, n):\n",
    "    primo = True\n",
    "    \n",
    "    for i in range(2, int(num**0.5) + 1):\n",
    "    \n",
    "        if num % i == 0:\n",
    "            primo = False         \n",
    "    \n",
    "    if primo:\n",
    "        print(num)"
   ]
  },
  {
   "attachments": {},
   "cell_type": "markdown",
   "metadata": {},
   "source": [
    "10) ¿Se puede mejorar el proceso del punto 9? Utilizar las sentencias break y/ó continue para tal fin"
   ]
  },
  {
   "cell_type": "code",
   "execution_count": 12,
   "metadata": {},
   "outputs": [
    {
     "name": "stdout",
     "output_type": "stream",
     "text": [
      "2\n",
      "3\n",
      "5\n",
      "7\n",
      "11\n",
      "13\n",
      "17\n",
      "19\n",
      "23\n",
      "29\n"
     ]
    }
   ],
   "source": [
    "n=30\n",
    "\n",
    "for num in range(2, n):\n",
    "    primo = True\n",
    "    \n",
    "    for i in range(2, int(num**0.5) + 1):\n",
    "    \n",
    "        if num % i == 0:\n",
    "            primo = False\n",
    "            break         \n",
    "    \n",
    "    if primo:\n",
    "        print(num)\n",
    "    "
   ]
  },
  {
   "attachments": {},
   "cell_type": "markdown",
   "metadata": {},
   "source": [
    "11) En los puntos 9 y 10, se diseño un código que encuentra números primos y además se lo optimizó. ¿Es posible saber en qué medida se optimizó?"
   ]
  },
  {
   "cell_type": "code",
   "execution_count": 13,
   "metadata": {},
   "outputs": [
    {
     "name": "stdout",
     "output_type": "stream",
     "text": [
      "2\n",
      "3\n",
      "5\n",
      "7\n",
      "11\n",
      "13\n",
      "17\n",
      "19\n",
      "23\n",
      "29\n"
     ]
    }
   ],
   "source": [
    "n = 30\n",
    "\n",
    "for num in range(2, n):\n",
    "    if all(num % i != 0 for i in range(2, int(num**0.5) + 1)):\n",
    "        print(num)"
   ]
  },
  {
   "attachments": {},
   "cell_type": "markdown",
   "metadata": {},
   "source": [
    "12) Aplicando continue, armar un ciclo while que solo imprima los valores divisibles por 12, dentro del rango de números de 100 a 300"
   ]
  },
  {
   "cell_type": "code",
   "execution_count": 17,
   "metadata": {},
   "outputs": [
    {
     "name": "stdout",
     "output_type": "stream",
     "text": [
      "108  es divisible por 12\n",
      "120  es divisible por 12\n",
      "132  es divisible por 12\n",
      "144  es divisible por 12\n",
      "156  es divisible por 12\n",
      "168  es divisible por 12\n",
      "180  es divisible por 12\n",
      "192  es divisible por 12\n",
      "204  es divisible por 12\n",
      "216  es divisible por 12\n",
      "228  es divisible por 12\n",
      "240  es divisible por 12\n",
      "252  es divisible por 12\n",
      "264  es divisible por 12\n",
      "276  es divisible por 12\n",
      "288  es divisible por 12\n",
      "300  es divisible por 12\n"
     ]
    }
   ],
   "source": [
    "n = 107\n",
    "\n",
    "while(n <= 300):\n",
    "    n += 1\n",
    "\n",
    "    if (n % 12 != 0):\n",
    "        continue\n",
    "    \n",
    "    print(n, ' es divisible por 12')"
   ]
  },
  {
   "attachments": {},
   "cell_type": "markdown",
   "metadata": {},
   "source": [
    "13) Utilizar la función **input()** que permite hacer ingresos por teclado, para encontrar números primos y dar la opción al usario de buscar el siguiente"
   ]
  },
  {
   "cell_type": "code",
   "execution_count": 18,
   "metadata": {},
   "outputs": [
    {
     "name": "stdout",
     "output_type": "stream",
     "text": [
      "1\n",
      "¿Desea encontrar el siguiente número primo? (Ingrese 1 para sí, cualquier otra tecla para no)\n",
      "Se finaliza el proceso\n"
     ]
    }
   ],
   "source": [
    "n = 1\n",
    "a = 1\n",
    "\n",
    "while a == 1:\n",
    "    primo = True \n",
    "\n",
    "    for div in range(2, n):\n",
    "        if n % div == 0:\n",
    "            primo = False\n",
    "            break\n",
    "\n",
    "    if primo:\n",
    "        print(n)\n",
    "        print('¿Desea encontrar el siguiente número primo? (Ingrese 1 para sí, cualquier otra tecla para no)')\n",
    "        if input() != '1':\n",
    "            print('Se finaliza el proceso')\n",
    "            break\n",
    "    n += 1"
   ]
  },
  {
   "attachments": {},
   "cell_type": "markdown",
   "metadata": {},
   "source": [
    "14) Crear un ciclo while que encuentre dentro del rango de 100 a 300 el primer número divisible por 3 y además múltiplo de 6"
   ]
  },
  {
   "cell_type": "code",
   "execution_count": 17,
   "metadata": {},
   "outputs": [
    {
     "name": "stdout",
     "output_type": "stream",
     "text": [
      "El primer numero divisible por 3 y multiplo de 6 es: 102\n"
     ]
    }
   ],
   "source": [
    "n = 100\n",
    "\n",
    "while(n <= 300):\n",
    "\n",
    "    if (n % 3 == 0):\n",
    "        print(\"El primer numero divisible por 3 y multiplo de 6 es:\", str(n))\n",
    "        break\n",
    "    n += 1"
   ]
  }
 ],
 "metadata": {
  "interpreter": {
   "hash": "c85384e4cb51c8b72350f3a8712cc8351fdc3955e32a27f9b60c6242ab125f01"
  },
  "kernelspec": {
   "display_name": "Python 3 (ipykernel)",
   "language": "python",
   "name": "python3"
  },
  "language_info": {
   "codemirror_mode": {
    "name": "ipython",
    "version": 3
   },
   "file_extension": ".py",
   "mimetype": "text/x-python",
   "name": "python",
   "nbconvert_exporter": "python",
   "pygments_lexer": "ipython3",
   "version": "3.12.0"
  }
 },
 "nbformat": 4,
 "nbformat_minor": 4
}
